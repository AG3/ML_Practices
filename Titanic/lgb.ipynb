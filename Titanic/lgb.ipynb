{
 "cells": [
  {
   "cell_type": "code",
   "execution_count": 1,
   "metadata": {},
   "outputs": [],
   "source": [
    "import numpy as np\n",
    "import pandas as pd\n",
    "import lightgbm as lgb\n",
    "from sklearn.metrics import mean_squared_error\n",
    "from sklearn.metrics import roc_auc_score, roc_curve\n",
    "from sklearn.model_selection import StratifiedKFold\n",
    "\n",
    "\n",
    "PATH = \"./dataset/\"\n",
    "\n",
    "train_df = pd.read_csv(PATH+\"clean_train.csv\")\n",
    "test_df = pd.read_csv(PATH+\"clean_test.csv\")"
   ]
  },
  {
   "cell_type": "code",
   "execution_count": 2,
   "metadata": {},
   "outputs": [],
   "source": [
    "train = train_df.drop(labels=['Ticket','Name'], axis=1)\n",
    "test = test_df.drop(labels=['Ticket','Name'], axis=1)\n",
    "\n",
    "\n",
    "train = train.replace('male', 1)\n",
    "train = train.replace('female', 0)\n",
    "\n",
    "test = test.replace('male', 1)\n",
    "test = test.replace('female', 0)\n",
    "\n",
    "train_mean_age = train.Age.mean()\n",
    "test_mean_age = test.Age.mean()\n",
    "test_mean_fare = test.Fare.mean()\n",
    "\n",
    "train.Age = train.Age.fillna(train_mean_age)\n",
    "test.Age = test.Age.fillna(test_mean_age)\n",
    "test.Fare = test.Fare.fillna(test_mean_fare)"
   ]
  },
  {
   "cell_type": "code",
   "execution_count": 3,
   "metadata": {},
   "outputs": [],
   "source": [
    "features = [c for c in train.columns if c not in ['PassengerId', 'Survived']]\n",
    "target = train['Survived']"
   ]
  },
  {
   "cell_type": "code",
   "execution_count": 4,
   "metadata": {},
   "outputs": [
    {
     "data": {
      "text/plain": [
       "0    0\n",
       "1    1\n",
       "2    1\n",
       "3    1\n",
       "4    0\n",
       "Name: Survived, dtype: int64"
      ]
     },
     "execution_count": 4,
     "metadata": {},
     "output_type": "execute_result"
    }
   ],
   "source": [
    "target.head()"
   ]
  },
  {
   "cell_type": "code",
   "execution_count": 10,
   "metadata": {},
   "outputs": [
    {
     "name": "stdout",
     "output_type": "stream",
     "text": [
      "Fold 0\n",
      "Training until validation scores don't improve for 3000 rounds.\n",
      "[1000]\ttraining's auc: 0.928032\tvalid_1's auc: 0.821299\n",
      "[2000]\ttraining's auc: 0.939967\tvalid_1's auc: 0.829091\n",
      "[3000]\ttraining's auc: 0.945466\tvalid_1's auc: 0.828052\n",
      "[4000]\ttraining's auc: 0.948651\tvalid_1's auc: 0.828052\n",
      "Early stopping, best iteration is:\n",
      "[1297]\ttraining's auc: 0.932839\tvalid_1's auc: 0.834805\n",
      "Fold 1\n",
      "Training until validation scores don't improve for 3000 rounds.\n",
      "[1000]\ttraining's auc: 0.930983\tvalid_1's auc: 0.798442\n",
      "[2000]\ttraining's auc: 0.942898\tvalid_1's auc: 0.800519\n",
      "[3000]\ttraining's auc: 0.948747\tvalid_1's auc: 0.801039\n",
      "[4000]\ttraining's auc: 0.951391\tvalid_1's auc: 0.802597\n",
      "[5000]\ttraining's auc: 0.952413\tvalid_1's auc: 0.8\n",
      "[6000]\ttraining's auc: 0.953857\tvalid_1's auc: 0.8\n",
      "Early stopping, best iteration is:\n",
      "[3565]\ttraining's auc: 0.950052\tvalid_1's auc: 0.808312\n",
      "Fold 2\n",
      "Training until validation scores don't improve for 3000 rounds.\n",
      "[1000]\ttraining's auc: 0.937451\tvalid_1's auc: 0.778877\n",
      "[2000]\ttraining's auc: 0.94865\tvalid_1's auc: 0.768717\n",
      "[3000]\ttraining's auc: 0.954335\tvalid_1's auc: 0.764973\n",
      "Early stopping, best iteration is:\n",
      "[123]\ttraining's auc: 0.904668\tvalid_1's auc: 0.789037\n",
      "Fold 3\n",
      "Training until validation scores don't improve for 3000 rounds.\n",
      "[1000]\ttraining's auc: 0.928309\tvalid_1's auc: 0.886364\n",
      "[2000]\ttraining's auc: 0.939357\tvalid_1's auc: 0.882086\n",
      "[3000]\ttraining's auc: 0.944983\tvalid_1's auc: 0.878342\n",
      "[4000]\ttraining's auc: 0.948144\tvalid_1's auc: 0.875668\n",
      "Early stopping, best iteration is:\n",
      "[1401]\ttraining's auc: 0.933593\tvalid_1's auc: 0.892781\n",
      "Fold 4\n",
      "Training until validation scores don't improve for 3000 rounds.\n",
      "[1000]\ttraining's auc: 0.928401\tvalid_1's auc: 0.877005\n",
      "[2000]\ttraining's auc: 0.93985\tvalid_1's auc: 0.881818\n",
      "[3000]\ttraining's auc: 0.945364\tvalid_1's auc: 0.880214\n",
      "[4000]\ttraining's auc: 0.948157\tvalid_1's auc: 0.879144\n",
      "[5000]\ttraining's auc: 0.94984\tvalid_1's auc: 0.876471\n",
      "Early stopping, best iteration is:\n",
      "[2403]\ttraining's auc: 0.942603\tvalid_1's auc: 0.885561\n",
      "Fold 5\n",
      "Training until validation scores don't improve for 3000 rounds.\n",
      "[1000]\ttraining's auc: 0.928841\tvalid_1's auc: 0.860963\n",
      "[2000]\ttraining's auc: 0.939863\tvalid_1's auc: 0.854011\n",
      "[3000]\ttraining's auc: 0.945837\tvalid_1's auc: 0.852941\n",
      "Early stopping, best iteration is:\n",
      "[981]\ttraining's auc: 0.928427\tvalid_1's auc: 0.863102\n",
      "Fold 6\n",
      "Training until validation scores don't improve for 3000 rounds.\n",
      "[1000]\ttraining's auc: 0.926485\tvalid_1's auc: 0.903209\n",
      "[2000]\ttraining's auc: 0.940753\tvalid_1's auc: 0.885027\n",
      "[3000]\ttraining's auc: 0.945807\tvalid_1's auc: 0.887166\n",
      "Early stopping, best iteration is:\n",
      "[17]\ttraining's auc: 0.867392\tvalid_1's auc: 0.909626\n",
      "Fold 7\n",
      "Training until validation scores don't improve for 3000 rounds.\n",
      "[1000]\ttraining's auc: 0.92633\tvalid_1's auc: 0.878075\n",
      "[2000]\ttraining's auc: 0.939896\tvalid_1's auc: 0.862032\n",
      "[3000]\ttraining's auc: 0.944845\tvalid_1's auc: 0.850802\n",
      "[4000]\ttraining's auc: 0.948381\tvalid_1's auc: 0.834225\n",
      "Early stopping, best iteration is:\n",
      "[1091]\ttraining's auc: 0.928302\tvalid_1's auc: 0.885027\n",
      "Fold 8\n",
      "Training until validation scores don't improve for 3000 rounds.\n",
      "[1000]\ttraining's auc: 0.928473\tvalid_1's auc: 0.87754\n",
      "[2000]\ttraining's auc: 0.941578\tvalid_1's auc: 0.864706\n",
      "[3000]\ttraining's auc: 0.947\tvalid_1's auc: 0.854011\n",
      "Early stopping, best iteration is:\n",
      "[704]\ttraining's auc: 0.920205\tvalid_1's auc: 0.887701\n",
      "Fold 9\n",
      "Training until validation scores don't improve for 3000 rounds.\n",
      "[1000]\ttraining's auc: 0.928306\tvalid_1's auc: 0.87854\n",
      "[2000]\ttraining's auc: 0.943569\tvalid_1's auc: 0.860022\n",
      "[3000]\ttraining's auc: 0.949675\tvalid_1's auc: 0.846405\n",
      "Early stopping, best iteration is:\n",
      "[135]\ttraining's auc: 0.89593\tvalid_1's auc: 0.899782\n",
      "CV score: 0.83453 \n"
     ]
    }
   ],
   "source": [
    "param = {\n",
    "    'bagging_freq': 5,\n",
    "    'bagging_fraction': 0.4,\n",
    "    'boost_from_average':'false',\n",
    "    'boost': 'gbdt',\n",
    "    'feature_fraction': 0.05,\n",
    "    'learning_rate': 0.01,\n",
    "    'max_depth': -1,  \n",
    "    'metric':'auc',\n",
    "    'min_data_in_leaf': 2,\n",
    "    #'min_sum_hessian_in_leaf': 3.0,\n",
    "    #'num_leaves': 13,\n",
    "    'device_type': 'cpu',\n",
    "    #'max_bin': 63,\n",
    "    'tree_learner': 'serial',\n",
    "    'objective': 'binary', \n",
    "    'verbosity': 1,\n",
    "    #'gpu_platform_id': 0,\n",
    "    #'gpu_device_id': 0\n",
    "}\n",
    "\n",
    "folds = StratifiedKFold(n_splits=10, shuffle=False, random_state=44000)\n",
    "oof = np.zeros(len(train))\n",
    "predictions = np.zeros(len(test))\n",
    "feature_importance_df = pd.DataFrame()\n",
    "MAX_FOLDS = 0\n",
    "for fold_, (trn_idx, val_idx) in enumerate(folds.split(train.values, target.values)):\n",
    "    print(\"Fold {}\".format(fold_))\n",
    "    trn_data = lgb.Dataset(train.iloc[trn_idx][features], label=target.iloc[trn_idx])\n",
    "    val_data = lgb.Dataset(train.iloc[val_idx][features], label=target.iloc[val_idx])\n",
    "\n",
    "    num_round = 100000\n",
    "    clf = lgb.train(param, trn_data, num_round, valid_sets = [trn_data, val_data], verbose_eval=1000, early_stopping_rounds = 3000)\n",
    "    oof[val_idx] = clf.predict(train.iloc[val_idx][features], num_iteration=clf.best_iteration)\n",
    "    '''\n",
    "    fold_importance_df = pd.DataFrame()\n",
    "    fold_importance_df[\"Feature\"] = features\n",
    "    fold_importance_df[\"importance\"] = clf.feature_importance()\n",
    "    fold_importance_df[\"fold\"] = fold_ + 1\n",
    "    feature_importance_df = pd.concat([feature_importance_df, fold_importance_df], axis=0)\n",
    "    '''\n",
    "    predictions += clf.predict(test[features], num_iteration=clf.best_iteration) / folds.split_n()\n",
    "    \n",
    "    #if fold_ == MAX_FOLDS:\n",
    "    #    break\n",
    "\n",
    "print(\"CV score: {:<8.5f}\".format(roc_auc_score(target, oof)))"
   ]
  },
  {
   "cell_type": "code",
   "execution_count": 11,
   "metadata": {},
   "outputs": [],
   "source": [
    "d = {'PassengerId': test_df.PassengerId, 'Survived': np.round(predictions).astype(int)}\n",
    "df = pd.DataFrame(data=d)\n",
    "df.to_csv(\"./cleaned_sub.csv\", index=False)"
   ]
  },
  {
   "cell_type": "code",
   "execution_count": 14,
   "metadata": {},
   "outputs": [],
   "source": [
    "predictions/=10"
   ]
  },
  {
   "cell_type": "code",
   "execution_count": 35,
   "metadata": {},
   "outputs": [
    {
     "data": {
      "text/html": [
       "<div>\n",
       "<style scoped>\n",
       "    .dataframe tbody tr th:only-of-type {\n",
       "        vertical-align: middle;\n",
       "    }\n",
       "\n",
       "    .dataframe tbody tr th {\n",
       "        vertical-align: top;\n",
       "    }\n",
       "\n",
       "    .dataframe thead th {\n",
       "        text-align: right;\n",
       "    }\n",
       "</style>\n",
       "<table border=\"1\" class=\"dataframe\">\n",
       "  <thead>\n",
       "    <tr style=\"text-align: right;\">\n",
       "      <th></th>\n",
       "      <th>PassengerId</th>\n",
       "      <th>Survived</th>\n",
       "    </tr>\n",
       "  </thead>\n",
       "  <tbody>\n",
       "    <tr>\n",
       "      <th>0</th>\n",
       "      <td>892</td>\n",
       "      <td>0</td>\n",
       "    </tr>\n",
       "    <tr>\n",
       "      <th>1</th>\n",
       "      <td>893</td>\n",
       "      <td>0</td>\n",
       "    </tr>\n",
       "    <tr>\n",
       "      <th>2</th>\n",
       "      <td>894</td>\n",
       "      <td>0</td>\n",
       "    </tr>\n",
       "    <tr>\n",
       "      <th>3</th>\n",
       "      <td>895</td>\n",
       "      <td>0</td>\n",
       "    </tr>\n",
       "    <tr>\n",
       "      <th>4</th>\n",
       "      <td>896</td>\n",
       "      <td>1</td>\n",
       "    </tr>\n",
       "  </tbody>\n",
       "</table>\n",
       "</div>"
      ],
      "text/plain": [
       "   PassengerId  Survived\n",
       "0          892         0\n",
       "1          893         0\n",
       "2          894         0\n",
       "3          895         0\n",
       "4          896         1"
      ]
     },
     "execution_count": 35,
     "metadata": {},
     "output_type": "execute_result"
    }
   ],
   "source": [
    "df.head()"
   ]
  },
  {
   "cell_type": "code",
   "execution_count": null,
   "metadata": {},
   "outputs": [],
   "source": []
  }
 ],
 "metadata": {
  "kernelspec": {
   "display_name": "Python 3",
   "language": "python",
   "name": "python3"
  },
  "language_info": {
   "codemirror_mode": {
    "name": "ipython",
    "version": 3
   },
   "file_extension": ".py",
   "mimetype": "text/x-python",
   "name": "python",
   "nbconvert_exporter": "python",
   "pygments_lexer": "ipython3",
   "version": "3.6.5"
  }
 },
 "nbformat": 4,
 "nbformat_minor": 2
}
